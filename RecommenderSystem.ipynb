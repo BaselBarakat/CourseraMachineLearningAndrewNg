{
 "cells": [
  {
   "cell_type": "markdown",
   "metadata": {},
   "source": [
    "# About\n",
    "\n",
    "- Workbook is implemented to better understand the recommender system.\n",
    "- Data is downloaded from Kaggle datasets and full version is available [here](https://www.kaggle.com/rounakbanik/the-movies-dataset/data)."
   ]
  },
  {
   "cell_type": "code",
   "execution_count": null,
   "metadata": {},
   "outputs": [],
   "source": [
    "import numpy as np\n",
    "import pandas as pd"
   ]
  },
  {
   "cell_type": "code",
   "execution_count": null,
   "metadata": {},
   "outputs": [],
   "source": [
    "df_data = pd.read_csv('imdb_ratings_small.csv', dtype=str, usecols=['userId', 'movieId', 'rating'])\n",
    "df_imdb = pd.read_csv('imdb_links_small.csv', dtype=str, usecols=['movieId', 'imdbId'])\n",
    "movieId_to_imbdId = {k: v for k, v in zip(df_imdb.movieId.tolist(), df_imdb.imdbId.tolist())}\n",
    "df_data.movieId = df_data.movieId.apply(lambda x: movieId_to_imbdId[x])\n",
    "df_data.rating = df_data.rating.apply(float)"
   ]
  },
  {
   "cell_type": "code",
   "execution_count": null,
   "metadata": {},
   "outputs": [],
   "source": [
    "from keras.preprocessing.text import Tokenizer\n",
    "movie_tokenizer = Tokenizer()\n",
    "movie_tokenizer.fit_on_texts(df_data.movieId.tolist())\n",
    "df_data.movieId = [_[0] for _ in movie_tokenizer.texts_to_sequences(df_data.movieId.tolist())]\n",
    "\n",
    "user_tokenizer = Tokenizer()\n",
    "user_tokenizer.fit_on_texts(df_data.userId.tolist())\n",
    "df_data.userId = [_[0] for _ in user_tokenizer.texts_to_sequences(df_data.userId.tolist())]"
   ]
  },
  {
   "cell_type": "code",
   "execution_count": null,
   "metadata": {},
   "outputs": [],
   "source": [
    "y = np.zeros((\n",
    "    df_data.movieId.max(axis=0)+1, #movies+1\n",
    "    df_data.userId.max(axis=0)+1,  #users+1\n",
    "))\n",
    "print(\"initialized y with size:\", y.shape)\n",
    "\n",
    "for idx in df_data.userId.unique().tolist():\n",
    "    y[df_data[df_data.userId==idx].movieId.tolist(), idx] = df_data[df_data.userId==idx].rating.tolist()"
   ]
  },
  {
   "cell_type": "code",
   "execution_count": null,
   "metadata": {},
   "outputs": [],
   "source": [
    "y = np.array(\n",
    "    [\n",
    "        [3. , 0. , 4.5, 4. , 2. ],\n",
    "        [3. , 4. , 3.5, 5. , 3. ],\n",
    "        [0. , 0. , 3. , 5. , 3. ],\n",
    "        [4. , 0. , 3. , 0. , 0. ],\n",
    "        [0. , 0. , 5. , 5. , 3.5],\n",
    "        [0. , 0. , 5. , 4. , 3.5],\n",
    "        [0. , 5. , 5. , 5. , 4.5],\n",
    "        [4. , 4. , 2.5, 5. , 0. ],\n",
    "        [0.5, 0. , 4. , 0. , 2.5],\n",
    "        [0. , 0. , 0. , 4. , 0. ]\n",
    "    ]\n",
    ")\n",
    "r = np.where(y > 0, 1, 0)"
   ]
  },
  {
   "cell_type": "code",
   "execution_count": null,
   "metadata": {},
   "outputs": [],
   "source": [
    "y_small = y[100:110, 50:55]"
   ]
  },
  {
   "cell_type": "code",
   "execution_count": null,
   "metadata": {},
   "outputs": [],
   "source": [
    "print(\"Shape:\")\n",
    "print(\"\\ty:\", y_small.shape)"
   ]
  },
  {
   "cell_type": "code",
   "execution_count": null,
   "metadata": {},
   "outputs": [],
   "source": [
    "def estimate_x(y, max_k=2, x=None, theta=None,\n",
    "               _alpha = 0.01, _lambda=0.001, _tolerance = 0.001):\n",
    "    r = np.where(y > 0, 1, 0)\n",
    "    converged = False\n",
    "    max_i, max_j = y.shape\n",
    "    if type(x) != np.array:\n",
    "        x = np.random.randn(max_i, max_k)\n",
    "    if type(theta) != np.array:\n",
    "        theta = np.random.randn(max_k+1, max_j)\n",
    "    _x = x.copy()\n",
    "    while not converged:\n",
    "        for i in range(max_i):\n",
    "            iter_y = y[i][np.where(r[i] != 0)]\n",
    "            iter_theta = theta.transpose()[np.where(r[i] != 0)].transpose()\n",
    "            iter_x_with_bias = np.hstack((np.ones((1,)), x[i]))\n",
    "            y_hat = np.matmul(iter_x_with_bias, iter_theta)\n",
    "            diff = y_hat - iter_y\n",
    "            del_x = np.matmul(iter_theta, diff)\n",
    "            update_x = _alpha * (del_x[1:]  + _lambda * x[i])\n",
    "            x[i] = x[i] - update_x\n",
    "        if np.max(abs(update_x)) < _tolerance:\n",
    "            converged = True\n",
    "    return theta, x\n",
    "\n",
    "def estimate_theta(y, max_k=2, x=None, theta=None,\n",
    "               _alpha = 0.01, _lambda=0.001, _tolerance = 0.001):\n",
    "    r = np.where(y > 0, 1, 0)\n",
    "    converged = False\n",
    "    max_i, max_j = y.shape\n",
    "    if type(x) != np.array:\n",
    "        x = np.random.randn(max_i, max_k)\n",
    "    if type(theta) != np.array:\n",
    "        theta = np.random.randn(max_j, max_k+1)\n",
    "    _theta = theta.copy()\n",
    "    while not converged:\n",
    "        for j in range(max_j):\n",
    "            included_rows = np.where(r[:, j] != 0)\n",
    "            iter_y = y[:, j][included_rows]\n",
    "            iter_theta = theta[:, j]\n",
    "            iter_x = x[included_rows]\n",
    "            iter_x_with_bias = np.hstack((np.ones((iter_x.shape[0],1)), iter_x))\n",
    "            y_hat = np.matmul(iter_x_with_bias, iter_theta)\n",
    "            diff = y_hat - iter_y\n",
    "            del_theta = np.matmul(iter_x_with_bias.transpose(), diff)\n",
    "            update_theta = del_theta\n",
    "            update_theta[1:] += _lambda * iter_theta[1:]\n",
    "            update_theta *= _alpha\n",
    "            theta[:, j] = theta[:, j] - update_theta\n",
    "        if np.max(abs(update_theta)) < _tolerance:\n",
    "            converged = True\n",
    "    return theta, x"
   ]
  },
  {
   "cell_type": "code",
   "execution_count": null,
   "metadata": {},
   "outputs": [],
   "source": [
    "def estimate_x_v2(y, max_k=2, x=None, theta=None,\n",
    "               _alpha = 0.01, _lambda=0.001, _tolerance = 0.001):\n",
    "    r = np.where(y > 0, 1, 0)\n",
    "    converged = False\n",
    "    max_i, max_j = y.shape\n",
    "    if type(x) != np.array:\n",
    "        x = np.random.randn(max_i, max_k)\n",
    "    if type(theta) != np.array:\n",
    "        theta = np.random.randn(max_j, max_k+1)\n",
    "    while not converged:\n",
    "        update_x = np.zeros(x.shape)\n",
    "        update_x = _alpha * (\n",
    "            np.matmul(\n",
    "                (\n",
    "                    np.matmul(\n",
    "                        np.hstack((np.ones((x.shape[0], 1)),x)), \n",
    "                        theta.transpose()\n",
    "                    ) - y\n",
    "                ) * r, \n",
    "                theta\n",
    "            )[:, 1:] + _lambda * x\n",
    "        )\n",
    "        x = x - update_x\n",
    "        if np.max(abs(update_x)) < _tolerance:\n",
    "            converged = True\n",
    "    return theta, x\n",
    "\n",
    "def estimate_theta_v2(y, max_k=2, x=None, theta=None,\n",
    "               _alpha = 0.01, _lambda=0.001, _tolerance = 0.001):\n",
    "    r = np.where(y > 0, 1, 0)\n",
    "    converged = False\n",
    "    max_i, max_j = y.shape\n",
    "    if type(x) != np.array:\n",
    "        x = np.random.randn(max_i, max_k)\n",
    "    if type(theta) != np.array:\n",
    "        theta = np.random.randn(max_j, max_k+1)\n",
    "    while not converged:\n",
    "        update_theta = np.zeros(theta.shape)\n",
    "        update_theta = _alpha * (\n",
    "            np.matmul(\n",
    "                np.hstack((np.ones((x.shape[0], 1)),x)).transpose(),\n",
    "                (\n",
    "                    np.matmul(\n",
    "                        np.hstack((np.ones((x.shape[0], 1)),x)), \n",
    "                        theta.transpose()\n",
    "                    ) - y\n",
    "                ) * r, \n",
    "            ).transpose() + _lambda * theta\n",
    "        )\n",
    "        theta = theta - update_theta\n",
    "        if np.max(abs(update_theta)) < _tolerance:\n",
    "            converged = True\n",
    "    return theta, x"
   ]
  },
  {
   "cell_type": "code",
   "execution_count": null,
   "metadata": {},
   "outputs": [],
   "source": [
    "def colaborative_filtering(y, max_k=2,\n",
    "                         _alpha=0.01, _lambda=0.001, _tolerance=0.001):\n",
    "    r = np.where(y>0, 1, 0)\n",
    "    converged = False\n",
    "    max_i, max_j = y.shape\n",
    "    x = np.random.rand(max_i, max_k)\n",
    "    theta = np.random.rand(max_k, max_j)\n",
    "    _x = x.copy()\n",
    "    _theta = theta.copy()\n",
    "    while not converged:\n",
    "        update_x = np.zeros(x.shape)\n",
    "        update_theta = np.zeros(theta.shape)\n",
    "        for i in range(max_i):\n",
    "            iter_y = y[i][np.where(r[i] != 0)]\n",
    "            iter_theta = theta.transpose()[np.where(r[i] != 0)].transpose()\n",
    "            iter_x = x[i]\n",
    "            y_hat = np.matmul(iter_x, iter_theta)\n",
    "            diff = y_hat - iter_y\n",
    "            del_x = np.matmul(iter_theta, diff)\n",
    "            update_x[i] = _alpha * (del_x  + _lambda * x[i])\n",
    "        for j in range(max_j):\n",
    "            included_rows = np.where(r[:, j] != 0)\n",
    "            iter_y = y[:, j][included_rows]\n",
    "            iter_theta = theta[:, j]\n",
    "            iter_x = x[included_rows]\n",
    "            y_hat = np.matmul(iter_x, iter_theta)\n",
    "            diff = y_hat - iter_y\n",
    "            del_theta = np.matmul(iter_x.transpose(), diff)\n",
    "            update_theta[:, j] = _alpha * (del_theta + _lambda * iter_theta)\n",
    "        x = x - update_x    \n",
    "        theta = theta - update_theta\n",
    "        if max(np.max(abs(update_x)), np.max(abs(update_theta))) < _tolerance:\n",
    "            converged = True\n",
    "    return theta, x"
   ]
  },
  {
   "cell_type": "code",
   "execution_count": null,
   "metadata": {},
   "outputs": [],
   "source": [
    "def colaborative_filtering_v2(y, max_k=2,\n",
    "             _alpha=0.01, _lambda=0.001, _tolerance=0.001, r=None):\n",
    "    if type(r) != np.ndarray:\n",
    "        r = np.where(y>0, 1, 0)\n",
    "    converged = False\n",
    "    max_i, max_j = y.shape\n",
    "    x = np.random.rand(max_i, max_k)\n",
    "    theta = np.random.rand(max_j, max_k)\n",
    "    \n",
    "    while not converged:\n",
    "        update_x = np.zeros(x.shape)\n",
    "        update_theta = np.zeros(theta.shape)\n",
    "        update_x = _alpha * (\n",
    "            np.matmul(\n",
    "                (np.matmul(x, theta.transpose()) - y) * r, \n",
    "                theta\n",
    "            ) + _lambda * x\n",
    "        )\n",
    "        update_theta = _alpha * (\n",
    "            np.matmul(\n",
    "                x.transpose(),\n",
    "                (np.matmul(x, theta.transpose()) - y) * r, \n",
    "            ).transpose() + _lambda * theta\n",
    "        )\n",
    "        x = x - update_x\n",
    "        theta = theta - update_theta\n",
    "        if max(np.max(abs(update_x)), np.max(abs(update_theta))) < _tolerance:\n",
    "            converged = True\n",
    "    return theta, x"
   ]
  },
  {
   "cell_type": "code",
   "execution_count": null,
   "metadata": {},
   "outputs": [],
   "source": [
    "tolerance=0.001\n",
    "max_k=50"
   ]
  },
  {
   "cell_type": "code",
   "execution_count": null,
   "metadata": {},
   "outputs": [],
   "source": [
    "theta, x = estimate_x_v2(y, _tolerance=tolerance, max_k=max_k)"
   ]
  },
  {
   "cell_type": "code",
   "execution_count": null,
   "metadata": {},
   "outputs": [],
   "source": [
    "for _ in range(2):\n",
    "    theta, x = estimate_theta_v2(y, x=x, theta=theta, _tolerance=tolerance, max_k=max_k)\n",
    "    theta, x = estimate_x_v2(y, x=x, theta=theta, _tolerance=tolerance, max_k=max_k)"
   ]
  },
  {
   "cell_type": "code",
   "execution_count": null,
   "metadata": {},
   "outputs": [],
   "source": [
    "y"
   ]
  },
  {
   "cell_type": "code",
   "execution_count": null,
   "metadata": {},
   "outputs": [],
   "source": [
    "np.matmul(np.hstack((np.ones((10, 1)), x)), theta.transpose()).round(decimals=2)"
   ]
  },
  {
   "cell_type": "code",
   "execution_count": null,
   "metadata": {},
   "outputs": [],
   "source": [
    "theta, x = colaborative_filtering_v2(y, max_k=max_k)"
   ]
  },
  {
   "cell_type": "code",
   "execution_count": null,
   "metadata": {},
   "outputs": [],
   "source": [
    "y"
   ]
  },
  {
   "cell_type": "code",
   "execution_count": null,
   "metadata": {},
   "outputs": [],
   "source": [
    "np.matmul(x, theta.transpose()).round(decimals=2)"
   ]
  },
  {
   "cell_type": "code",
   "execution_count": null,
   "metadata": {},
   "outputs": [],
   "source": [
    "y = np.hstack((y, np.zeros((y.shape[0], 1))))"
   ]
  },
  {
   "cell_type": "code",
   "execution_count": null,
   "metadata": {},
   "outputs": [],
   "source": [
    "max_k = 5\n",
    "tolerance = 0.0000001\n",
    "theta, x = colaborative_filtering_v2(y, max_k=max_k, _tolerance=tolerance)"
   ]
  },
  {
   "cell_type": "code",
   "execution_count": null,
   "metadata": {},
   "outputs": [],
   "source": [
    "y"
   ]
  },
  {
   "cell_type": "code",
   "execution_count": null,
   "metadata": {},
   "outputs": [],
   "source": [
    "np.matmul(x, theta.transpose()).round(decimals=2)"
   ]
  },
  {
   "cell_type": "code",
   "execution_count": null,
   "metadata": {},
   "outputs": [],
   "source": [
    "def normalized(y, max_k=2,\n",
    "             _alpha=0.01, _lambda=0.001, _tolerance=0.001):\n",
    "    r = np.where(y>0, 1, 0)\n",
    "    y_sum = y.sum(axis=1)\n",
    "    r_sum = r.sum(axis=1)\n",
    "    y_mean = np.atleast_2d(y_sum/r_sum).transpose()\n",
    "    y_norm = y - y_mean\n",
    "    theta, x = colaborative_filtering_v2(y_norm, max_k, _alpha, _lambda, _tolerance, r)\n",
    "    return theta, x, y_mean"
   ]
  },
  {
   "cell_type": "code",
   "execution_count": null,
   "metadata": {},
   "outputs": [],
   "source": [
    "theta, x, y_mean = normalized(y, max_k=max_k, _tolerance=tolerance)"
   ]
  },
  {
   "cell_type": "code",
   "execution_count": null,
   "metadata": {},
   "outputs": [],
   "source": [
    "y"
   ]
  },
  {
   "cell_type": "code",
   "execution_count": null,
   "metadata": {},
   "outputs": [],
   "source": [
    "(np.matmul(x, theta.transpose()) + y_mean).round(decimals=2)"
   ]
  },
  {
   "cell_type": "code",
   "execution_count": null,
   "metadata": {},
   "outputs": [],
   "source": []
  }
 ],
 "metadata": {
  "kernelspec": {
   "display_name": "Python 3",
   "language": "python",
   "name": "python3"
  },
  "language_info": {
   "codemirror_mode": {
    "name": "ipython",
    "version": 3
   },
   "file_extension": ".py",
   "mimetype": "text/x-python",
   "name": "python",
   "nbconvert_exporter": "python",
   "pygments_lexer": "ipython3",
   "version": "3.6.3"
  }
 },
 "nbformat": 4,
 "nbformat_minor": 2
}
